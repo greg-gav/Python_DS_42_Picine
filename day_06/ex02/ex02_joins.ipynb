{
 "cells": [
  {
   "cell_type": "code",
   "execution_count": 544,
   "metadata": {},
   "outputs": [],
   "source": [
    "import pandas as pd\n",
    "import sqlite3"
   ]
  },
  {
   "cell_type": "markdown",
   "metadata": {},
   "source": [
    "## connection to the database"
   ]
  },
  {
   "cell_type": "code",
   "execution_count": 545,
   "metadata": {},
   "outputs": [],
   "source": [
    "con = sqlite3.connect(\"../data/checking-logs.sqlite\")"
   ]
  },
  {
   "cell_type": "markdown",
   "metadata": {},
   "source": [
    "## create a new table datamart"
   ]
  },
  {
   "cell_type": "code",
   "execution_count": 546,
   "metadata": {},
   "outputs": [
    {
     "name": "stdout",
     "output_type": "stream",
     "text": [
      "<class 'pandas.core.frame.DataFrame'>\n",
      "RangeIndex: 140 entries, 0 to 139\n",
      "Data columns (total 4 columns):\n",
      " #   Column           Non-Null Count  Dtype         \n",
      "---  ------           --------------  -----         \n",
      " 0   uid              140 non-null    object        \n",
      " 1   labname          140 non-null    object        \n",
      " 2   first_commit_ts  140 non-null    datetime64[ns]\n",
      " 3   first_view_ts    59 non-null     datetime64[ns]\n",
      "dtypes: datetime64[ns](2), object(2)\n",
      "memory usage: 4.5+ KB\n"
     ]
    }
   ],
   "source": [
    "datamart = pd.io.sql.read_sql(\n",
    "    sql=\"SELECT checker.uid, labname, timestamp AS 'first_commit_ts', \\\n",
    "            MIN(pageviews.datetime) AS 'first_view_ts' FROM checker \\\n",
    "                LEFT JOIN pageviews ON checker.uid=pageviews.uid WHERE (status='ready' AND \\\n",
    "            numTrials=1 AND checker.uid LIKE 'user_%' AND (labname = 'laba04' OR labname = 'laba04s' OR \\\n",
    "                labname = 'laba05' OR labname = 'laba06' or labname = 'laba06s' OR \\\n",
    "                    labname = 'project1')) GROUP BY timestamp\",\n",
    "    con=con,\n",
    "    parse_dates=['first_commit_ts', 'first_view_ts']\n",
    ")\n",
    "datamart.info()\n"
   ]
  },
  {
   "cell_type": "markdown",
   "metadata": {},
   "source": [
    " ## using Pandas methods, create two dataframes: test and control"
   ]
  },
  {
   "cell_type": "code",
   "execution_count": 547,
   "metadata": {},
   "outputs": [
    {
     "name": "stdout",
     "output_type": "stream",
     "text": [
      "<class 'pandas.core.frame.DataFrame'>\n",
      "Int64Index: 59 entries, 3 to 139\n",
      "Data columns (total 4 columns):\n",
      " #   Column           Non-Null Count  Dtype         \n",
      "---  ------           --------------  -----         \n",
      " 0   uid              59 non-null     object        \n",
      " 1   labname          59 non-null     object        \n",
      " 2   first_commit_ts  59 non-null     datetime64[ns]\n",
      " 3   first_view_ts    59 non-null     datetime64[ns]\n",
      "dtypes: datetime64[ns](2), object(2)\n",
      "memory usage: 2.3+ KB\n"
     ]
    }
   ],
   "source": [
    "test = datamart.loc[datamart['first_view_ts'].notnull()]\n",
    "test.info()"
   ]
  },
  {
   "cell_type": "code",
   "execution_count": 548,
   "metadata": {},
   "outputs": [
    {
     "name": "stdout",
     "output_type": "stream",
     "text": [
      "<class 'pandas.core.frame.DataFrame'>\n",
      "Int64Index: 81 entries, 0 to 137\n",
      "Data columns (total 4 columns):\n",
      " #   Column           Non-Null Count  Dtype         \n",
      "---  ------           --------------  -----         \n",
      " 0   uid              81 non-null     object        \n",
      " 1   labname          81 non-null     object        \n",
      " 2   first_commit_ts  81 non-null     datetime64[ns]\n",
      " 3   first_view_ts    81 non-null     datetime64[ns]\n",
      "dtypes: datetime64[ns](2), object(2)\n",
      "memory usage: 3.2+ KB\n"
     ]
    },
    {
     "name": "stderr",
     "output_type": "stream",
     "text": [
      "/var/folders/r4/bqmr8srn2017vsfr5117_g1m0000gn/T/ipykernel_4009/281808298.py:2: SettingWithCopyWarning: \n",
      "A value is trying to be set on a copy of a slice from a DataFrame\n",
      "\n",
      "See the caveats in the documentation: https://pandas.pydata.org/pandas-docs/stable/user_guide/indexing.html#returning-a-view-versus-a-copy\n",
      "  control['first_view_ts'].fillna((test['first_view_ts'].mean()), inplace=True)\n"
     ]
    }
   ],
   "source": [
    "control = datamart.loc[~datamart['first_view_ts'].notnull()]\n",
    "control['first_view_ts'].fillna((test['first_view_ts'].mean()), inplace=True)\n",
    "control.info()"
   ]
  },
  {
   "cell_type": "code",
   "execution_count": 549,
   "metadata": {},
   "outputs": [
    {
     "data": {
      "text/html": [
       "<div>\n",
       "<style scoped>\n",
       "    .dataframe tbody tr th:only-of-type {\n",
       "        vertical-align: middle;\n",
       "    }\n",
       "\n",
       "    .dataframe tbody tr th {\n",
       "        vertical-align: top;\n",
       "    }\n",
       "\n",
       "    .dataframe thead th {\n",
       "        text-align: right;\n",
       "    }\n",
       "</style>\n",
       "<table border=\"1\" class=\"dataframe\">\n",
       "  <thead>\n",
       "    <tr style=\"text-align: right;\">\n",
       "      <th></th>\n",
       "      <th>index</th>\n",
       "      <th>uid</th>\n",
       "      <th>labname</th>\n",
       "      <th>first_commit_ts</th>\n",
       "      <th>first_view_ts</th>\n",
       "    </tr>\n",
       "  </thead>\n",
       "  <tbody>\n",
       "    <tr>\n",
       "      <th>0</th>\n",
       "      <td>0</td>\n",
       "      <td>user_4</td>\n",
       "      <td>project1</td>\n",
       "      <td>2020-04-17 05:19:02.744528</td>\n",
       "      <td>2020-04-27 00:40:05.761783</td>\n",
       "    </tr>\n",
       "    <tr>\n",
       "      <th>1</th>\n",
       "      <td>1</td>\n",
       "      <td>user_4</td>\n",
       "      <td>laba04</td>\n",
       "      <td>2020-04-17 11:33:17.366400</td>\n",
       "      <td>2020-04-27 00:40:05.761783</td>\n",
       "    </tr>\n",
       "    <tr>\n",
       "      <th>2</th>\n",
       "      <td>2</td>\n",
       "      <td>user_4</td>\n",
       "      <td>laba04s</td>\n",
       "      <td>2020-04-17 11:48:41.992466</td>\n",
       "      <td>2020-04-27 00:40:05.761783</td>\n",
       "    </tr>\n",
       "    <tr>\n",
       "      <th>3</th>\n",
       "      <td>5</td>\n",
       "      <td>user_2</td>\n",
       "      <td>laba04</td>\n",
       "      <td>2020-04-18 13:42:35.482008</td>\n",
       "      <td>2020-04-27 00:40:05.761783</td>\n",
       "    </tr>\n",
       "    <tr>\n",
       "      <th>4</th>\n",
       "      <td>6</td>\n",
       "      <td>user_2</td>\n",
       "      <td>laba04s</td>\n",
       "      <td>2020-04-18 13:51:22.291271</td>\n",
       "      <td>2020-04-27 00:40:05.761783</td>\n",
       "    </tr>\n",
       "    <tr>\n",
       "      <th>...</th>\n",
       "      <td>...</td>\n",
       "      <td>...</td>\n",
       "      <td>...</td>\n",
       "      <td>...</td>\n",
       "      <td>...</td>\n",
       "    </tr>\n",
       "    <tr>\n",
       "      <th>76</th>\n",
       "      <td>126</td>\n",
       "      <td>user_2</td>\n",
       "      <td>laba06s</td>\n",
       "      <td>2020-05-19 14:45:03.908268</td>\n",
       "      <td>2020-04-27 00:40:05.761783</td>\n",
       "    </tr>\n",
       "    <tr>\n",
       "      <th>77</th>\n",
       "      <td>132</td>\n",
       "      <td>user_6</td>\n",
       "      <td>laba06s</td>\n",
       "      <td>2020-05-20 14:50:07.609937</td>\n",
       "      <td>2020-04-27 00:40:05.761783</td>\n",
       "    </tr>\n",
       "    <tr>\n",
       "      <th>78</th>\n",
       "      <td>134</td>\n",
       "      <td>user_7</td>\n",
       "      <td>laba06s</td>\n",
       "      <td>2020-05-20 23:05:37.742597</td>\n",
       "      <td>2020-04-27 00:40:05.761783</td>\n",
       "    </tr>\n",
       "    <tr>\n",
       "      <th>79</th>\n",
       "      <td>135</td>\n",
       "      <td>user_23</td>\n",
       "      <td>laba06</td>\n",
       "      <td>2020-05-21 08:34:10.517205</td>\n",
       "      <td>2020-04-27 00:40:05.761783</td>\n",
       "    </tr>\n",
       "    <tr>\n",
       "      <th>80</th>\n",
       "      <td>137</td>\n",
       "      <td>user_23</td>\n",
       "      <td>laba06s</td>\n",
       "      <td>2020-05-21 14:29:15.709568</td>\n",
       "      <td>2020-04-27 00:40:05.761783</td>\n",
       "    </tr>\n",
       "  </tbody>\n",
       "</table>\n",
       "<p>81 rows × 5 columns</p>\n",
       "</div>"
      ],
      "text/plain": [
       "    index      uid   labname             first_commit_ts  \\\n",
       "0       0   user_4  project1  2020-04-17 05:19:02.744528   \n",
       "1       1   user_4    laba04  2020-04-17 11:33:17.366400   \n",
       "2       2   user_4   laba04s  2020-04-17 11:48:41.992466   \n",
       "3       5   user_2    laba04  2020-04-18 13:42:35.482008   \n",
       "4       6   user_2   laba04s  2020-04-18 13:51:22.291271   \n",
       "..    ...      ...       ...                         ...   \n",
       "76    126   user_2   laba06s  2020-05-19 14:45:03.908268   \n",
       "77    132   user_6   laba06s  2020-05-20 14:50:07.609937   \n",
       "78    134   user_7   laba06s  2020-05-20 23:05:37.742597   \n",
       "79    135  user_23    laba06  2020-05-21 08:34:10.517205   \n",
       "80    137  user_23   laba06s  2020-05-21 14:29:15.709568   \n",
       "\n",
       "                 first_view_ts  \n",
       "0   2020-04-27 00:40:05.761783  \n",
       "1   2020-04-27 00:40:05.761783  \n",
       "2   2020-04-27 00:40:05.761783  \n",
       "3   2020-04-27 00:40:05.761783  \n",
       "4   2020-04-27 00:40:05.761783  \n",
       "..                         ...  \n",
       "76  2020-04-27 00:40:05.761783  \n",
       "77  2020-04-27 00:40:05.761783  \n",
       "78  2020-04-27 00:40:05.761783  \n",
       "79  2020-04-27 00:40:05.761783  \n",
       "80  2020-04-27 00:40:05.761783  \n",
       "\n",
       "[81 rows x 5 columns]"
      ]
     },
     "execution_count": 549,
     "metadata": {},
     "output_type": "execute_result"
    }
   ],
   "source": [
    "# (NOTE): already written to db\n",
    "# test.to_sql('test', con)\n",
    "# control.to_sql('control', con)"
   ]
  },
  {
   "cell_type": "markdown",
   "metadata": {},
   "source": [
    "## Close connection"
   ]
  },
  {
   "cell_type": "code",
   "execution_count": 550,
   "metadata": {},
   "outputs": [],
   "source": [
    "con.close()"
   ]
  }
 ],
 "metadata": {
  "kernelspec": {
   "display_name": "Python 3.10.4 64-bit",
   "language": "python",
   "name": "python3"
  },
  "language_info": {
   "codemirror_mode": {
    "name": "ipython",
    "version": 3
   },
   "file_extension": ".py",
   "mimetype": "text/x-python",
   "name": "python",
   "nbconvert_exporter": "python",
   "pygments_lexer": "ipython3",
   "version": "3.10.4"
  },
  "orig_nbformat": 4,
  "vscode": {
   "interpreter": {
    "hash": "aee8b7b246df8f9039afb4144a1f6fd8d2ca17a180786b69acc140d282b71a49"
   }
  }
 },
 "nbformat": 4,
 "nbformat_minor": 2
}
