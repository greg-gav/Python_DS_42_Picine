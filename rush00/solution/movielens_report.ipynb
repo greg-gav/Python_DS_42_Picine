{
 "cells": [
  {
   "cell_type": "markdown",
   "metadata": {},
   "source": [
    "# Аналитика по фильмам"
   ]
  },
  {
   "cell_type": "markdown",
   "metadata": {},
   "source": [
    "## Подготовка:\n",
    "Здесь мы импортируем свой класс Analytics и создаём его объект. При инициализации будут прочитаны все файлы в указанном  каталоге. Если с ними есть проблемы (файлов нет или они не того формата), возникнет соответствующее исключение."
   ]
  },
  {
   "cell_type": "code",
   "execution_count": 31,
   "metadata": {},
   "outputs": [],
   "source": [
    "from movielens_analysis import Analytics\n",
    "analytics = Analytics('ml-latest-small')"
   ]
  },
  {
   "cell_type": "markdown",
   "metadata": {},
   "source": [
    "Класс Analytics позволяет добраться до методов четырёх подклассов: Links, Movies, Ratings, Tags."
   ]
  },
  {
   "cell_type": "markdown",
   "metadata": {},
   "source": [
    "## Методы подкласса Links"
   ]
  },
  {
   "cell_type": "markdown",
   "metadata": {},
   "source": [
    "### .get_imdb(list[, list])\n",
    "Метод get_imdb() позволяет загрузить с сайта www.imdb.com данные о фильмах (указывается список ID) с помощью парсинга.\n",
    "Посмотрим, какую информацию можно получить например по списку фильмов [317, 318, 319, 320].\n",
    "Вторым агрументом может быть передан список параметров, но по умолчанию это ['Director', 'Budget', 'Cumulative Worldwide Gross', 'Runtime']"
   ]
  },
  {
   "cell_type": "code",
   "execution_count": 32,
   "metadata": {},
   "outputs": [
    {
     "name": "stdout",
     "output_type": "stream",
     "text": [
      "4.27 s ± 0 ns per loop (mean ± std. dev. of 1 run, 1 loop each)\n",
      "[[320, 'N/A', 'N/A', '102780', '01:36:00'], [319, 'Danny Boyle', '2500000', '2079569', '01:29:00'], [318, 'Frank Darabont', '25000000', '28884504', '02:22:00'], [317, 'John Pasquin', '22000000', '190539357', '01:37:00']]\n"
     ]
    }
   ],
   "source": [
    "%timeit -n 1 -r 1 analytics.links.get_imdb([317, 318, 319, 320])\n",
    "get_imdb = analytics.links.get_imdb([317, 318, 319, 320])\n",
    "print(get_imdb)"
   ]
  },
  {
   "cell_type": "markdown",
   "metadata": {},
   "source": [
    "Как видно, 4 запроса заняли довольно большое время. При этом не все элементы удалось найти ('N/A').\n",
    "Выводы:\n",
    "1. Данные нужно создавать не одновременно с процессом анализа, а заранее. Желательно их положить в файл с быстрым доступом, а не каждый раз забирать по сети\n",
    "2. Данные могут содержать ошибки и пустые места, это нужно учитывать при анализе.\n",
    "Поскольку этот проект не позволяет менять подход, то чтобы делать дальнейший анализ, мы запросом только 10 фильмов в каждом методе."
   ]
  },
  {
   "cell_type": "markdown",
   "metadata": {},
   "source": [
    "### .top_directors(n)\n",
    "Метод top_directors(n) позволяет посмотреть самых популярных режиссёров. Однако по 10 фильмам найти трёх самых популярных бесполезно - у каждого по 1 фильму ))"
   ]
  },
  {
   "cell_type": "code",
   "execution_count": 33,
   "metadata": {},
   "outputs": [
    {
     "name": "stdout",
     "output_type": "stream",
     "text": [
      "11.9 s ± 0 ns per loop (mean ± std. dev. of 1 run, 1 loop each)\n",
      "{'Martin Campbell': 1, 'Peter Hyams': 1, 'Peter Hewitt': 1}\n"
     ]
    }
   ],
   "source": [
    "%timeit -n 1 -r 1 analytics.links.top_directors(1)\n",
    "top_directors = analytics.links.top_directors(3)\n",
    "print(top_directors)"
   ]
  },
  {
   "cell_type": "markdown",
   "metadata": {},
   "source": [
    "## .most_expensive(n)\n",
    "Метод most_expensive(n) позволяет посмотреть N фильмов с самым большим бюджетом (не забываем, что выборка состоит только из 10 первых фильмов, а первыми в списке идут в основном старые фильмы):"
   ]
  },
  {
   "cell_type": "code",
   "execution_count": 34,
   "metadata": {},
   "outputs": [
    {
     "name": "stdout",
     "output_type": "stream",
     "text": [
      "10.8 s ± 0 ns per loop (mean ± std. dev. of 1 run, 1 loop each)\n",
      "{'Jumanji (1995)': 65000000, 'GoldenEye (1995)': 60000000, 'Heat (1995)': 60000000}\n"
     ]
    }
   ],
   "source": [
    "%timeit -n 1 -r 1 analytics.links.most_expensive(1)\n",
    "most_expensive = analytics.links.most_expensive(3)\n",
    "print(most_expensive)"
   ]
  },
  {
   "cell_type": "markdown",
   "metadata": {},
   "source": [
    "Обратите внимание: здесь и далее названия файлов берутся из файла 'movies.csv'."
   ]
  },
  {
   "cell_type": "markdown",
   "metadata": {},
   "source": [
    "## .most_profitable(n)\n",
    "Метод most_profitable(n) позволяет посмотреть N фильмов с самыми большими сборами:"
   ]
  },
  {
   "cell_type": "code",
   "execution_count": 35,
   "metadata": {},
   "outputs": [
    {
     "name": "stdout",
     "output_type": "stream",
     "text": [
      "10.4 s ± 0 ns per loop (mean ± std. dev. of 1 run, 1 loop each)\n",
      "{'Toy Story (1995)': 364436586, 'GoldenEye (1995)': 292194034, 'Jumanji (1995)': 197821940, 'Heat (1995)': 127436818, 'Waiting to Exhale (1995)': 65452156}\n"
     ]
    }
   ],
   "source": [
    "%timeit -n 1 -r 1 analytics.links.most_profitable(1)\n",
    "most_profitable = analytics.links.most_profitable(5)\n",
    "print(most_profitable)"
   ]
  },
  {
   "cell_type": "markdown",
   "metadata": {},
   "source": [
    "## .longest(n))\n",
    "Метод longest(n) позволяет посмотреть N фильмов из выборки с самым большой длительностью (длительность естественно тоже указана):"
   ]
  },
  {
   "cell_type": "code",
   "execution_count": 36,
   "metadata": {},
   "outputs": [
    {
     "name": "stdout",
     "output_type": "stream",
     "text": [
      "10.9 s ± 0 ns per loop (mean ± std. dev. of 1 run, 1 loop each)\n",
      "{'Heat (1995)': '02:50:00', 'GoldenEye (1995)': '02:10:00', 'Sabrina (1995)': '02:07:00', 'Waiting to Exhale (1995)': '02:04:00', 'Sudden Death (1995)': '01:51:00'}\n"
     ]
    }
   ],
   "source": [
    "%timeit -n 1 -r 1 analytics.links.longest(1)\n",
    "longest = analytics.links.longest(5)\n",
    "print(longest)"
   ]
  },
  {
   "cell_type": "markdown",
   "metadata": {},
   "source": [
    "## .top_cost_per_minute(n))\n",
    "Метод top_cost_per_minute(n) позволяет посмотреть N фильмов из выборки с самой большой ценой минуты (иногда фильмы длинные и дорогие, иногда короткие и дешёвые, этот параметр - \"цена съёмки одной минуты\"):"
   ]
  },
  {
   "cell_type": "code",
   "execution_count": 37,
   "metadata": {},
   "outputs": [
    {
     "name": "stdout",
     "output_type": "stream",
     "text": [
      "10.2 s ± 0 ns per loop (mean ± std. dev. of 1 run, 1 loop each)\n",
      "{'Jumanji (1995)': 625000.0, 'GoldenEye (1995)': 461538.46153846156, 'Sabrina (1995)': 456692.91338582675, 'Toy Story (1995)': 370370.3703703704, 'Heat (1995)': 352941.17647058825}\n"
     ]
    }
   ],
   "source": [
    "%timeit -n 1 -r 1 analytics.links.top_cost_per_minute(1)\n",
    "top5costs = analytics.links.top_cost_per_minute(5)\n",
    "print(top5costs)"
   ]
  },
  {
   "cell_type": "markdown",
   "metadata": {},
   "source": [
    "Данные приведены в float-типе. Для удобства переведём их в int.\n",
    "Нам запрешено использовать что-либо, кроме класса Analytics, поэтому мы предусмотрели в нём такой метод:"
   ]
  },
  {
   "cell_type": "code",
   "execution_count": 38,
   "metadata": {},
   "outputs": [
    {
     "name": "stdout",
     "output_type": "stream",
     "text": [
      "442 ns ± 4.08 ns per loop (mean ± std. dev. of 7 runs, 1,000,000 loops each)\n",
      "{'Jumanji (1995)': 625000, 'GoldenEye (1995)': 461538, 'Sabrina (1995)': 456692, 'Toy Story (1995)': 370370, 'Heat (1995)': 352941}\n"
     ]
    }
   ],
   "source": [
    "%timeit analytics.dict_to_int(top5costs)\n",
    "dict_to_int = analytics.dict_to_int(top5costs)\n",
    "print(dict_to_int)"
   ]
  },
  {
   "cell_type": "markdown",
   "metadata": {},
   "source": [
    "## Методы подкласса Movies\n",
    "Подкласс Movies обрабатывает только файл 'movies.csv' (не обращается к сторонним сайтам). Поэтому работает заметно быстрее"
   ]
  },
  {
   "cell_type": "markdown",
   "metadata": {},
   "source": [
    "## .dist_by_release()\n",
    "Метод dist_by_release() выводит все найденные годы выпуска фильмов в порядке убывания количества фильмов, выпущенных в этот год. Можно сказать, что самими \"активными\" были нулевые годы - по 300 фильмов каждый год. И кака найти время, чтобы их все пересмотреть?"
   ]
  },
  {
   "cell_type": "code",
   "execution_count": 39,
   "metadata": {},
   "outputs": [
    {
     "name": "stdout",
     "output_type": "stream",
     "text": [
      "5.36 ms ± 20.5 µs per loop (mean ± std. dev. of 7 runs, 100 loops each)\n",
      "{'2002': 311, '2006': 295, '2001': 294, '2007': 284, '2000': 283, '2009': 282, '2003': 279, '2004': 279, '2014': 278, '1996': 276, '2015': 274, '2005': 273, '2008': 269, '1999': 263, '1997': 260, '1995': 259, '1998': 258, '2011': 254, '2010': 247, '2013': 239, '1994': 237, '2012': 233, '2016': 218, '1993': 198, '1992': 167, '1988': 165, '1987': 153, '1990': 147, '1991': 147, '2017': 147, '1989': 142, '1986': 139, '1985': 126, '1984': 101, '1981': 92, '1980': 89, '1982': 87, '1983': 83, '1979': 69, '1977': 63, '1973': 59, '1978': 59, '1965': 47, '1971': 47, '1974': 45, '1976': 44, '1964': 43, '1967': 42, '1968': 42, '1975': 42, '1966': 42, '2018': 41, '1962': 40, '1972': 39, '1963': 39, '1959': 37, '1960': 37, '1955': 36, '1969': 35, '1961': 34, '1970': 33, '1957': 33, '1958': 31, '1953': 30, '1956': 30, '1940': 25, '1949': 25, '1954': 23, '1942': 23, '1939': 23, '1946': 23, '1951': 22, '1950': 21, '1947': 20, '1948': 20, '1941': 18, '1936': 18, '1945': 17, '1937': 16, '1952': 16, '1944': 16, '1938': 15, '1931': 14, '1935': 13, 'N/A': 13, '1933': 12, '1934': 11, '1943': 10, '1932': 9, '1927': 7, '1930': 5, '1926': 5, '1924': 5, '1929': 4, '1928': 4, '1925': 4, '1923': 4, '1916': 4, '1920': 2, '1922': 1, '1919': 1, '1921': 1, '1915': 1, '1917': 1, '1902': 1, '1903': 1, '1908': 1}\n"
     ]
    }
   ],
   "source": [
    "%timeit analytics.movies.dist_by_release()\n",
    "dist_by_release = analytics.movies.dist_by_release()\n",
    "print(dist_by_release)"
   ]
  },
  {
   "cell_type": "markdown",
   "metadata": {},
   "source": [
    "## .dist_by_genres()\n",
    "Метод dist_by_genres(n) делает то же самое с жанрами. Видно, что самими популярными жанрами являются Драма, Комадия и Триллер. Люди любят играть, смеяться и пугаться. Смеяться любят почти в 2 раза чаще, чем пугаться ))"
   ]
  },
  {
   "cell_type": "code",
   "execution_count": 40,
   "metadata": {},
   "outputs": [
    {
     "name": "stdout",
     "output_type": "stream",
     "text": [
      "1.44 ms ± 5.85 µs per loop (mean ± std. dev. of 7 runs, 1,000 loops each)\n",
      "{'Drama': 4361, 'Comedy': 3756, 'Thriller': 1894, 'Action': 1828, 'Romance': 1596, 'Adventure': 1263, 'Crime': 1199, 'Sci-Fi': 980, 'Horror': 978, 'Fantasy': 779, 'Children': 664, 'Animation': 611, 'Mystery': 573, 'Documentary': 440, 'War': 382, 'Musical': 334, 'Western': 167, 'IMAX': 158, 'Film-Noir': 87, '(no genres listed)': 34}\n"
     ]
    }
   ],
   "source": [
    "%timeit analytics.movies.dist_by_genres()\n",
    "dist_by_genres = analytics.movies.dist_by_genres()\n",
    "print(dist_by_genres)"
   ]
  },
  {
   "cell_type": "markdown",
   "metadata": {},
   "source": [
    "## .most_genres(n)\n",
    "Метод most_genres(n) выводит N фильмов с самым большим количеством жанров."
   ]
  },
  {
   "cell_type": "code",
   "execution_count": 41,
   "metadata": {},
   "outputs": [
    {
     "name": "stdout",
     "output_type": "stream",
     "text": [
      "1.21 ms ± 7.85 µs per loop (mean ± std. dev. of 7 runs, 1,000 loops each)\n",
      "{'Rubber (2010)': 10, 'Patlabor: The Movie (Kidô keisatsu patorebâ: The Movie) (1989)': 8, 'Mulan (1998)': 7}\n"
     ]
    }
   ],
   "source": [
    "%timeit analytics.movies.most_genres(3)\n",
    "most_genres = analytics.movies.most_genres(3)\n",
    "print(most_genres)"
   ]
  },
  {
   "cell_type": "markdown",
   "metadata": {},
   "source": [
    "Сразу 10 жанров в одном фильме. Вот это да! Интересно, какие? Чтобы посмотреть, можно воспользоваться дополнительной функцией"
   ]
  },
  {
   "cell_type": "markdown",
   "metadata": {},
   "source": [
    "## .get_movies_from_title(list_of_titles)\n",
    "Метод get_movies_from_title(list_of_titles) выводит словарь, в котором значениями указан список жанров каждого запрошенного фильма.\n",
    "Это дополнительный метод, и на него тоже написаны тесты."
   ]
  },
  {
   "cell_type": "code",
   "execution_count": 42,
   "metadata": {},
   "outputs": [
    {
     "name": "stdout",
     "output_type": "stream",
     "text": [
      "390 µs ± 1.57 µs per loop (mean ± std. dev. of 7 runs, 1,000 loops each)\n",
      "{'Mulan (1998)': ['Adventure', 'Animation', 'Children', 'Comedy', 'Drama', 'Musical', 'Romance'], 'Rubber (2010)': ['Action', 'Adventure', 'Comedy', 'Crime', 'Drama', 'Film-Noir', 'Horror', 'Mystery', 'Thriller', 'Western']}\n"
     ]
    }
   ],
   "source": [
    "%timeit analytics.movies.get_movies_from_title(['Rubber (2010)', 'Mulan (1998)'])\n",
    "get_movies_from_title = analytics.movies.get_movies_from_title(['Rubber (2010)', 'Mulan (1998)'])\n",
    "print(get_movies_from_title)"
   ]
  },
  {
   "cell_type": "markdown",
   "metadata": {},
   "source": [
    "Вот такое кино - все жанры в одном фильме. Аж захотелось посмотреть."
   ]
  },
  {
   "cell_type": "markdown",
   "metadata": {},
   "source": [
    "## Analysing data from tags.csv"
   ]
  },
  {
   "cell_type": "markdown",
   "metadata": {},
   "source": [
    "#### We already have an instance of Analytics class with specific data path.\n",
    "Data file should have correct header, otherwise exception has been thrown.\n",
    "From there, we will use Tags class attributes to work with tags data."
   ]
  },
  {
   "cell_type": "code",
   "execution_count": 43,
   "metadata": {},
   "outputs": [],
   "source": [
    "a = analytics"
   ]
  },
  {
   "cell_type": "markdown",
   "metadata": {},
   "source": [
    "#### Les't look at tags with most words!"
   ]
  },
  {
   "cell_type": "code",
   "execution_count": 44,
   "metadata": {},
   "outputs": [
    {
     "name": "stdout",
     "output_type": "stream",
     "text": [
      "316 µs ± 2.01 µs per loop (mean ± std. dev. of 7 runs, 1,000 loops each)\n",
      "{'Something for everyone in this one... saw it without and plan on seeing it with kids!': 16, 'the catholic church is the most corrupt organization in history': 10, 'villain nonexistent or not needed for good story': 8, 'It was melodramatic and kind of dumb': 7, '06 Oscar Nominated Best Movie - Animation': 7}\n"
     ]
    }
   ],
   "source": [
    "%timeit a.tags.most_words(5)\n",
    "most_words = a.tags.most_words(5)\n",
    "print(most_words)"
   ]
  },
  {
   "cell_type": "markdown",
   "metadata": {},
   "source": [
    "Longest tag is 16 words long! Wow! Looking at 5 tags with most words we see that the longest is 16, then 10, 8, 7 and 7. That's quite a bit of words!"
   ]
  },
  {
   "cell_type": "markdown",
   "metadata": {},
   "source": [
    "#### We have looked at most words, bu what about the number of characters in a tag? Will top 5 in terms of number of characters be the same or different?"
   ]
  },
  {
   "cell_type": "code",
   "execution_count": 45,
   "metadata": {},
   "outputs": [
    {
     "name": "stdout",
     "output_type": "stream",
     "text": [
      "247 µs ± 3.73 µs per loop (mean ± std. dev. of 7 runs, 1,000 loops each)\n",
      "['Something for everyone in this one... saw it without and plan on seeing it with kids!', 'the catholic church is the most corrupt organization in history', 'villain nonexistent or not needed for good story', 'r:disturbing violent content including rape', '06 Oscar Nominated Best Movie - Animation']\n"
     ]
    }
   ],
   "source": [
    "%timeit a.tags.longest(5)\n",
    "most_chars = a.tags.longest(5)\n",
    "print(most_chars)"
   ]
  },
  {
   "cell_type": "markdown",
   "metadata": {},
   "source": [
    "Actually, the same four with most words are the longest! Only one entry in the list is different from keys in the 'most_words' dictionary!"
   ]
  },
  {
   "cell_type": "markdown",
   "metadata": {},
   "source": [
    "#### But a smart way to check the statement above is to use something called 'intersection' which will return to us information about entries that are in both lists!"
   ]
  },
  {
   "cell_type": "code",
   "execution_count": 46,
   "metadata": {},
   "outputs": [
    {
     "name": "stdout",
     "output_type": "stream",
     "text": [
      "569 µs ± 3.81 µs per loop (mean ± std. dev. of 7 runs, 1,000 loops each)\n",
      "['the catholic church is the most corrupt organization in history', 'villain nonexistent or not needed for good story', '06 Oscar Nominated Best Movie - Animation', 'Something for everyone in this one... saw it without and plan on seeing it with kids!']\n"
     ]
    }
   ],
   "source": [
    "%timeit a.tags.most_words_and_longest(5)\n",
    "most_chars_and_words = a.tags.most_words_and_longest(5)\n",
    "print(most_chars_and_words)"
   ]
  },
  {
   "cell_type": "markdown",
   "metadata": {},
   "source": [
    "Four items in the intersection list. This confirms our observations before, but now we can do it automatically!"
   ]
  },
  {
   "cell_type": "markdown",
   "metadata": {},
   "source": [
    "#### Now let's look at popularity. Sure there are some tags that are more popular then others. Many users will tend to use a lot of the same tags."
   ]
  },
  {
   "cell_type": "code",
   "execution_count": 47,
   "metadata": {},
   "outputs": [
    {
     "name": "stdout",
     "output_type": "stream",
     "text": [
      "215 µs ± 1.6 µs per loop (mean ± std. dev. of 7 runs, 1,000 loops each)\n",
      "{'In Netflix queue': 131, 'atmospheric': 36, 'superhero': 24, 'thought-provoking': 24, 'funny': 23}\n"
     ]
    }
   ],
   "source": [
    "%timeit a.tags.most_popular(5)\n",
    "most_popular = a.tags.most_popular(5)\n",
    "print(most_popular)"
   ]
  },
  {
   "cell_type": "markdown",
   "metadata": {},
   "source": [
    "Turns out, many people like to tag movies as being in their Netflix queue! It is the most popular tag. Other categories follow."
   ]
  },
  {
   "cell_type": "markdown",
   "metadata": {},
   "source": [
    "#### Now let's try to look for something specific."
   ]
  },
  {
   "cell_type": "code",
   "execution_count": 48,
   "metadata": {},
   "outputs": [
    {
     "name": "stdout",
     "output_type": "stream",
     "text": [
      "362 µs ± 2.52 µs per loop (mean ± std. dev. of 7 runs, 1,000 loops each)\n",
      "['jay and silent bob']\n",
      "['Guardians of the Galaxy', 'It was melodramatic and kind of dumb', 'Shakespeare sort of', 'Stones of Summer', 'ark of the covenant', 'end of the world', 'freedom of expression', 'lack of development', 'lack of plot', 'lack of story', 'lord of the rings', 'out of order', 'purity of essence', 'representation of children', 'start of a beautiful friendship']\n",
      "['Horror', 'horror']\n"
     ]
    }
   ],
   "source": [
    "%timeit a.tags.tags_with('none')\n",
    "tags_with = a.tags.tags_with('bob')\n",
    "print(tags_with)\n",
    "tags_with = a.tags.tags_with('of')\n",
    "print(tags_with)\n",
    "tags_with = a.tags.tags_with('horror')\n",
    "print(tags_with)"
   ]
  },
  {
   "cell_type": "markdown",
   "metadata": {},
   "source": [
    "We found one tag containing word 'bob', all the tags containing 'of' and two versions of tags containing word 'horror'"
   ]
  },
  {
   "cell_type": "markdown",
   "metadata": {},
   "source": [
    "## Analysing data from ratings.csv"
   ]
  },
  {
   "cell_type": "markdown",
   "metadata": {},
   "source": [
    "#### Every rating in our data has an assosiated timestamp (Unix time). We can use this data to see when the ratings were given to movies."
   ]
  },
  {
   "cell_type": "code",
   "execution_count": 49,
   "metadata": {},
   "outputs": [
    {
     "name": "stdout",
     "output_type": "stream",
     "text": [
      "141 ms ± 210 µs per loop (mean ± std. dev. of 7 runs, 10 loops each)\n",
      "{'1996': 6040, '1997': 1916, '1998': 507, '1999': 2439, '2000': 10061, '2001': 3922, '2002': 3478, '2003': 4014, '2004': 3279, '2005': 5813, '2006': 4059, '2007': 7114, '2008': 4351, '2009': 4158, '2010': 2301, '2011': 1690, '2012': 4656, '2013': 1664, '2014': 1439, '2015': 6616, '2016': 6703, '2017': 8198, '2018': 6418}\n"
     ]
    }
   ],
   "source": [
    "%timeit a.ratings.movies.dist_by_year()\n",
    "dist_by_year = a.ratings.movies.dist_by_year()\n",
    "print(dist_by_year)"
   ]
  },
  {
   "cell_type": "markdown",
   "metadata": {},
   "source": [
    "We see that our ratings data has some ratings from 1996 till 2018."
   ]
  },
  {
   "cell_type": "markdown",
   "metadata": {},
   "source": [
    "#### Let's see how many different ratings our data has"
   ]
  },
  {
   "cell_type": "code",
   "execution_count": 50,
   "metadata": {},
   "outputs": [
    {
     "name": "stdout",
     "output_type": "stream",
     "text": [
      "4.8 ms ± 247 µs per loop (mean ± std. dev. of 7 runs, 100 loops each)\n",
      "{'0.5': 1370, '1.0': 2811, '1.5': 1791, '2.0': 7551, '2.5': 5550, '3.0': 20047, '3.5': 13136, '4.0': 26818, '4.5': 8551, '5.0': 13211}\n"
     ]
    }
   ],
   "source": [
    "%timeit a.ratings.movies.dist_by_rating()\n",
    "dist_by_rating = a.ratings.movies.dist_by_rating()\n",
    "print(dist_by_rating)"
   ]
  },
  {
   "cell_type": "markdown",
   "metadata": {},
   "source": [
    "So ratings are distributed in 0.5 increments from 0.5 to 5.0. The most ratings are 4.0 and 3.0."
   ]
  },
  {
   "cell_type": "markdown",
   "metadata": {},
   "source": [
    "#### Now let's see the most rated movies by the number of ratings."
   ]
  },
  {
   "cell_type": "code",
   "execution_count": 51,
   "metadata": {},
   "outputs": [
    {
     "name": "stdout",
     "output_type": "stream",
     "text": [
      "5.28 ms ± 122 µs per loop (mean ± std. dev. of 7 runs, 100 loops each)\n",
      "{'Forrest Gump (1994)': 329, '\"Shawshank Redemption': 317, 'Pulp Fiction (1994)': 307, '\"Silence of the Lambs': 279, '\"Matrix': 278}\n"
     ]
    }
   ],
   "source": [
    "%timeit a.ratings.movies.top_by_num_of_ratings(5)\n",
    "top_by_num_of_ratings = a.ratings.movies.top_by_num_of_ratings(5)\n",
    "print(top_by_num_of_ratings)"
   ]
  },
  {
   "cell_type": "markdown",
   "metadata": {},
   "source": [
    "I think everyone should know these, no wonder they are the most rated!"
   ]
  },
  {
   "cell_type": "markdown",
   "metadata": {},
   "source": [
    "#### The way we designed our classes allows us to ask the same question about the users: who has the most ratings?"
   ]
  },
  {
   "cell_type": "code",
   "execution_count": 52,
   "metadata": {},
   "outputs": [
    {
     "name": "stdout",
     "output_type": "stream",
     "text": [
      "4.15 ms ± 111 µs per loop (mean ± std. dev. of 7 runs, 100 loops each)\n",
      "{'414': 2698, '599': 2478, '474': 2108, '448': 1864, '274': 1346}\n"
     ]
    }
   ],
   "source": [
    "%timeit a.ratings.users.top_by_num_of_ratings(5)\n",
    "top_by_num_of_ratings = a.ratings.users.top_by_num_of_ratings(5)\n",
    "print(top_by_num_of_ratings)"
   ]
  },
  {
   "cell_type": "markdown",
   "metadata": {},
   "source": [
    "Keys in this dict are user ids. We don't have our users names, but now we know that one person left 2698 ratings for movies and the second place is not far behind!"
   ]
  },
  {
   "cell_type": "markdown",
   "metadata": {},
   "source": [
    "#### Now let's see top movies by ratings. We can do this both using mean(average) and median values"
   ]
  },
  {
   "cell_type": "code",
   "execution_count": 53,
   "metadata": {},
   "outputs": [
    {
     "name": "stdout",
     "output_type": "stream",
     "text": [
      "27.2 ms ± 242 µs per loop (mean ± std. dev. of 7 runs, 10 loops each)\n",
      "{'The Jinx: The Life and Deaths of Robert Durst (2015)': 5.0, 'Galaxy of Terror (Quest) (1981)': 5.0, 'Alien Contamination (1980)': 5.0, \"I'm the One That I Want (2000)\": 5.0, 'Lesson Faust (1994)': 5.0}\n"
     ]
    }
   ],
   "source": [
    "%timeit a.ratings.movies.top_by_ratings(5, metric='average')\n",
    "top_by_ratings = a.ratings.movies.top_by_ratings(5, metric='average')\n",
    "print(top_by_ratings)"
   ]
  },
  {
   "cell_type": "markdown",
   "metadata": {},
   "source": [
    "Now the same, but using median metric. This is not so different for top5 movies."
   ]
  },
  {
   "cell_type": "code",
   "execution_count": 54,
   "metadata": {},
   "outputs": [
    {
     "name": "stdout",
     "output_type": "stream",
     "text": [
      "25.3 ms ± 359 µs per loop (mean ± std. dev. of 7 runs, 10 loops each)\n",
      "{'The Jinx: The Life and Deaths of Robert Durst (2015)': 5.0, 'Galaxy of Terror (Quest) (1981)': 5.0, 'Alien Contamination (1980)': 5.0, 'Troll 2 (1990)': 5.0, \"I'm the One That I Want (2000)\": 5.0}\n"
     ]
    }
   ],
   "source": [
    "%timeit a.ratings.movies.top_by_ratings(5, metric='median')\n",
    "top_by_ratings = a.ratings.movies.top_by_ratings(5, metric='median')\n",
    "print(top_by_ratings)"
   ]
  },
  {
   "cell_type": "markdown",
   "metadata": {},
   "source": [
    "Using the same method on users, we can find those who only give good ratings to movies.\n",
    "Users are represented as their ids."
   ]
  },
  {
   "cell_type": "code",
   "execution_count": 55,
   "metadata": {},
   "outputs": [
    {
     "name": "stdout",
     "output_type": "stream",
     "text": [
      "18.9 ms ± 1.35 ms per loop (mean ± std. dev. of 7 runs, 100 loops each)\n",
      "{'53': 5.0, '251': 4.87, '515': 4.85, '25': 4.81, '30': 4.74}\n"
     ]
    }
   ],
   "source": [
    "%timeit a.ratings.users.top_by_ratings(5, metric='average')\n",
    "top_by_ratings = a.ratings.users.top_by_ratings(5, metric='average')\n",
    "print(top_by_ratings)"
   ]
  },
  {
   "cell_type": "markdown",
   "metadata": {},
   "source": [
    "Now we know that user with id 53 only gave 5 star ratings."
   ]
  },
  {
   "cell_type": "markdown",
   "metadata": {},
   "source": [
    "#### If we want, we can see what movies are the most controversial ones. \n",
    "This is calculated by variance of ratings. variance() is a function of a built-in 'statistics' module.\n",
    "Today, we can't import this module, so we built our own variance function:"
   ]
  },
  {
   "cell_type": "code",
   "execution_count": 56,
   "metadata": {},
   "outputs": [
    {
     "name": "stdout",
     "output_type": "stream",
     "text": [
      "70.4 ms ± 381 µs per loop (mean ± std. dev. of 7 runs, 10 loops each)\n",
      "{'Pulp Fiction (1994)': 277.33, '\"Matrix': 263.46, 'Forrest Gump (1994)': 226.64, 'Braveheart (1995)': 221.01, \"Schindler's List (1993)\": 208.62}\n"
     ]
    }
   ],
   "source": [
    "%timeit a.ratings.movies.top_controversial(5)\n",
    "top_controversial = a.ratings.movies.top_controversial(5)\n",
    "print(top_controversial)"
   ]
  },
  {
   "cell_type": "markdown",
   "metadata": {},
   "source": [
    "The higher the value, the more controversial in terms of ratings the movie is.\n",
    "Not surprisingly, movies like 'Pulp Fiction' and 'Schindler's List' cause a lot of controversy."
   ]
  },
  {
   "cell_type": "markdown",
   "metadata": {},
   "source": [
    "Using the same method on users we can see those with the most variance in ratings, but this is not very meaningful for us as we study movies."
   ]
  },
  {
   "cell_type": "markdown",
   "metadata": {},
   "source": [
    "#### Finalizing this report, we can say that we took a pretty big dive into movielens dataset and learned quiet a lot about movies, having fun in the process!"
   ]
  }
 ],
 "metadata": {
  "kernelspec": {
   "display_name": "Python 3.8.10 64-bit",
   "language": "python",
   "name": "python3"
  },
  "language_info": {
   "codemirror_mode": {
    "name": "ipython",
    "version": 3
   },
   "file_extension": ".py",
   "mimetype": "text/x-python",
   "name": "python",
   "nbconvert_exporter": "python",
   "pygments_lexer": "ipython3",
   "version": "3.8.10"
  },
  "orig_nbformat": 4,
  "vscode": {
   "interpreter": {
    "hash": "916dbcbb3f70747c44a77c7bcd40155683ae19c65e1c03b4aa3499c5328201f1"
   }
  }
 },
 "nbformat": 4,
 "nbformat_minor": 2
}
