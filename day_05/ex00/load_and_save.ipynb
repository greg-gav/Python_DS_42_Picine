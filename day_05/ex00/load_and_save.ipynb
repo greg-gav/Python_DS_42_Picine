{
 "cells": [
  {
   "cell_type": "markdown",
   "id": "1c908ade",
   "metadata": {},
   "source": [
    "## read_csv:"
   ]
  },
  {
   "cell_type": "code",
   "execution_count": 6,
   "id": "8b54cfe0",
   "metadata": {},
   "outputs": [],
   "source": [
    "import pandas as pd"
   ]
  },
  {
   "cell_type": "code",
   "execution_count": 7,
   "id": "7a1e838b",
   "metadata": {},
   "outputs": [],
   "source": [
    "data = pd.read_csv(\n",
    "    \"../data/feed-views.log\",\n",
    "    skiprows=[2,3],\n",
    "    skipfooter=2,\n",
    "    engine='python',\n",
    "    names=['datetime', 'user'],\n",
    "    sep='\\t',\n",
    "    index_col='datetime'\n",
    ")"
   ]
  },
  {
   "cell_type": "markdown",
   "id": "fda82c86",
   "metadata": {},
   "source": [
    "## rename:"
   ]
  },
  {
   "cell_type": "code",
   "execution_count": 8,
   "id": "c7f37cde",
   "metadata": {},
   "outputs": [],
   "source": [
    "data.index.names = ['date_time']"
   ]
  },
  {
   "cell_type": "markdown",
   "id": "455f5853",
   "metadata": {},
   "source": [
    "## to_csv:"
   ]
  },
  {
   "cell_type": "code",
   "execution_count": 9,
   "id": "a7ef304c",
   "metadata": {},
   "outputs": [],
   "source": [
    "data.to_csv(\"feed-views-semicolon.log\", sep=',')"
   ]
  }
 ],
 "metadata": {
  "kernelspec": {
   "display_name": "Python 3.10.4 64-bit",
   "language": "python",
   "name": "python3"
  },
  "language_info": {
   "codemirror_mode": {
    "name": "ipython",
    "version": 3
   },
   "file_extension": ".py",
   "mimetype": "text/x-python",
   "name": "python",
   "nbconvert_exporter": "python",
   "pygments_lexer": "ipython3",
   "version": "3.10.4"
  },
  "vscode": {
   "interpreter": {
    "hash": "aee8b7b246df8f9039afb4144a1f6fd8d2ca17a180786b69acc140d282b71a49"
   }
  }
 },
 "nbformat": 4,
 "nbformat_minor": 5
}
